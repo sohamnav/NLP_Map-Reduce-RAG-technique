{
  "cells": [
    {
      "cell_type": "markdown",
      "source": [
        "# Soham Navale MTech (AIML) 23070149021\n"
      ],
      "metadata": {
        "id": "LAgz-B6HdWMJ"
      },
      "id": "LAgz-B6HdWMJ"
    },
    {
      "cell_type": "markdown",
      "id": "cf13f702",
      "metadata": {
        "id": "cf13f702"
      },
      "source": [
        "\n",
        "## Use case\n",
        "\n",
        "Suppose you have a set of documents (PDFs, Notion pages, customer questions, etc.) and you want to summarize the content.\n",
        "\n",
        "LLMs are a great tool for this given their proficiency in understanding and synthesizing text.\n",
        "\n",
        "In this walkthrough we'll go over how to perform document summarization using LLMs."
      ]
    },
    {
      "cell_type": "markdown",
      "id": "8e233997",
      "metadata": {
        "id": "8e233997"
      },
      "source": [
        "![Image description](https://github.com/langchain-ai/langchain/blob/master/docs/static/img/summarization_use_case_1.png?raw=1)"
      ]
    },
    {
      "cell_type": "markdown",
      "id": "4715b4ff",
      "metadata": {
        "jp-MarkdownHeadingCollapsed": true,
        "id": "4715b4ff"
      },
      "source": [
        "## Overview\n",
        "\n",
        "A central question for building a summarizer is how to pass your documents into the LLM's context window. Two common approaches for this are:\n",
        "\n",
        "1. `Stuff`: Simply \"stuff\" all your documents into a single prompt. This is the simplest approach (see [here](/docs/modules/chains#lcel-chains) for more on the `create_stuff_documents_chain` constructor, which is used for this method).\n",
        "\n",
        "2. `Map-reduce`: Summarize each document on it's own in a \"map\" step and then \"reduce\" the summaries into a final summary (see [here](/docs/modules/chains#legacy-chains) for more on the `MapReduceDocumentsChain`, which is used for this method)."
      ]
    },
    {
      "cell_type": "markdown",
      "id": "08ec66bc",
      "metadata": {
        "id": "08ec66bc"
      },
      "source": [
        "![Image description](https://github.com/langchain-ai/langchain/blob/master/docs/static/img/summarization_use_case_2.png?raw=1)"
      ]
    },
    {
      "cell_type": "markdown",
      "id": "bea785ac",
      "metadata": {
        "id": "bea785ac"
      },
      "source": [
        "## Quickstart\n",
        "\n",
        "To give you a sneak preview, either pipeline can be wrapped in a single object: `load_summarize_chain`.\n",
        "\n",
        "Suppose we want to summarize a blog post. We can create this in a few lines of code.\n",
        "\n",
        "First set environment variables and install packages:"
      ]
    },
    {
      "cell_type": "code",
      "execution_count": null,
      "id": "578d6a90",
      "metadata": {
        "id": "578d6a90",
        "colab": {
          "base_uri": "https://localhost:8080/"
        },
        "outputId": "de733ae6-5f2b-41dc-bd65-d739802ce461"
      },
      "outputs": [
        {
          "output_type": "stream",
          "name": "stdout",
          "text": [
            "\u001b[2K     \u001b[90m━━━━━━━━━━━━━━━━━━━━━━━━━━━━━━━━━━━━━━━━\u001b[0m \u001b[32m1.8/1.8 MB\u001b[0m \u001b[31m12.9 MB/s\u001b[0m eta \u001b[36m0:00:00\u001b[0m\n",
            "\u001b[2K     \u001b[90m━━━━━━━━━━━━━━━━━━━━━━━━━━━━━━━━━━━━━━━━\u001b[0m \u001b[32m525.5/525.5 kB\u001b[0m \u001b[31m13.3 MB/s\u001b[0m eta \u001b[36m0:00:00\u001b[0m\n",
            "\u001b[2K     \u001b[90m━━━━━━━━━━━━━━━━━━━━━━━━━━━━━━━━━━━━━━━━\u001b[0m \u001b[32m817.7/817.7 kB\u001b[0m \u001b[31m17.6 MB/s\u001b[0m eta \u001b[36m0:00:00\u001b[0m\n",
            "\u001b[2K     \u001b[90m━━━━━━━━━━━━━━━━━━━━━━━━━━━━━━━━━━━━━━━━\u001b[0m \u001b[32m290.2/290.2 kB\u001b[0m \u001b[31m11.6 MB/s\u001b[0m eta \u001b[36m0:00:00\u001b[0m\n",
            "\u001b[2K     \u001b[90m━━━━━━━━━━━━━━━━━━━━━━━━━━━━━━━━━━━━━━━━\u001b[0m \u001b[32m311.0/311.0 kB\u001b[0m \u001b[31m12.3 MB/s\u001b[0m eta \u001b[36m0:00:00\u001b[0m\n",
            "\u001b[2K     \u001b[90m━━━━━━━━━━━━━━━━━━━━━━━━━━━━━━━━━━━━━━━━\u001b[0m \u001b[32m2.4/2.4 MB\u001b[0m \u001b[31m25.7 MB/s\u001b[0m eta \u001b[36m0:00:00\u001b[0m\n",
            "\u001b[2K     \u001b[90m━━━━━━━━━━━━━━━━━━━━━━━━━━━━━━━━━━━━━━━━\u001b[0m \u001b[32m91.9/91.9 kB\u001b[0m \u001b[31m4.9 MB/s\u001b[0m eta \u001b[36m0:00:00\u001b[0m\n",
            "\u001b[2K     \u001b[90m━━━━━━━━━━━━━━━━━━━━━━━━━━━━━━━━━━━━━━━━\u001b[0m \u001b[32m60.8/60.8 kB\u001b[0m \u001b[31m3.4 MB/s\u001b[0m eta \u001b[36m0:00:00\u001b[0m\n",
            "\u001b[2K     \u001b[90m━━━━━━━━━━━━━━━━━━━━━━━━━━━━━━━━━━━━━━━━\u001b[0m \u001b[32m41.3/41.3 kB\u001b[0m \u001b[31m2.4 MB/s\u001b[0m eta \u001b[36m0:00:00\u001b[0m\n",
            "\u001b[2K     \u001b[90m━━━━━━━━━━━━━━━━━━━━━━━━━━━━━━━━━━━━━━━━\u001b[0m \u001b[32m5.4/5.4 MB\u001b[0m \u001b[31m34.8 MB/s\u001b[0m eta \u001b[36m0:00:00\u001b[0m\n",
            "\u001b[2K     \u001b[90m━━━━━━━━━━━━━━━━━━━━━━━━━━━━━━━━━━━━━━━━\u001b[0m \u001b[32m6.8/6.8 MB\u001b[0m \u001b[31m35.9 MB/s\u001b[0m eta \u001b[36m0:00:00\u001b[0m\n",
            "\u001b[2K     \u001b[90m━━━━━━━━━━━━━━━━━━━━━━━━━━━━━━━━━━━━━━━━\u001b[0m \u001b[32m60.1/60.1 kB\u001b[0m \u001b[31m4.0 MB/s\u001b[0m eta \u001b[36m0:00:00\u001b[0m\n",
            "\u001b[2K     \u001b[90m━━━━━━━━━━━━━━━━━━━━━━━━━━━━━━━━━━━━━━━━\u001b[0m \u001b[32m106.1/106.1 kB\u001b[0m \u001b[31m7.6 MB/s\u001b[0m eta \u001b[36m0:00:00\u001b[0m\n",
            "\u001b[2K     \u001b[90m━━━━━━━━━━━━━━━━━━━━━━━━━━━━━━━━━━━━━━━━\u001b[0m \u001b[32m67.3/67.3 kB\u001b[0m \u001b[31m5.7 MB/s\u001b[0m eta \u001b[36m0:00:00\u001b[0m\n",
            "\u001b[?25h  Installing build dependencies ... \u001b[?25l\u001b[?25hdone\n",
            "  Getting requirements to build wheel ... \u001b[?25l\u001b[?25hdone\n",
            "  Preparing metadata (pyproject.toml) ... \u001b[?25l\u001b[?25hdone\n",
            "\u001b[2K     \u001b[90m━━━━━━━━━━━━━━━━━━━━━━━━━━━━━━━━━━━━━━━━\u001b[0m \u001b[32m698.9/698.9 kB\u001b[0m \u001b[31m46.7 MB/s\u001b[0m eta \u001b[36m0:00:00\u001b[0m\n",
            "\u001b[2K     \u001b[90m━━━━━━━━━━━━━━━━━━━━━━━━━━━━━━━━━━━━━━━━\u001b[0m \u001b[32m1.6/1.6 MB\u001b[0m \u001b[31m60.1 MB/s\u001b[0m eta \u001b[36m0:00:00\u001b[0m\n",
            "\u001b[2K     \u001b[90m━━━━━━━━━━━━━━━━━━━━━━━━━━━━━━━━━━━━━━━━\u001b[0m \u001b[32m67.6/67.6 kB\u001b[0m \u001b[31m8.3 MB/s\u001b[0m eta \u001b[36m0:00:00\u001b[0m\n",
            "\u001b[2K     \u001b[90m━━━━━━━━━━━━━━━━━━━━━━━━━━━━━━━━━━━━━━━━\u001b[0m \u001b[32m141.1/141.1 kB\u001b[0m \u001b[31m15.0 MB/s\u001b[0m eta \u001b[36m0:00:00\u001b[0m\n",
            "\u001b[2K     \u001b[90m━━━━━━━━━━━━━━━━━━━━━━━━━━━━━━━━━━━━━━━━\u001b[0m \u001b[32m1.9/1.9 MB\u001b[0m \u001b[31m63.9 MB/s\u001b[0m eta \u001b[36m0:00:00\u001b[0m\n",
            "\u001b[2K     \u001b[90m━━━━━━━━━━━━━━━━━━━━━━━━━━━━━━━━━━━━━━━━\u001b[0m \u001b[32m115.2/115.2 kB\u001b[0m \u001b[31m13.6 MB/s\u001b[0m eta \u001b[36m0:00:00\u001b[0m\n",
            "\u001b[2K     \u001b[90m━━━━━━━━━━━━━━━━━━━━━━━━━━━━━━━━━━━━━━━━\u001b[0m \u001b[32m49.4/49.4 kB\u001b[0m \u001b[31m5.9 MB/s\u001b[0m eta \u001b[36m0:00:00\u001b[0m\n",
            "\u001b[2K     \u001b[90m━━━━━━━━━━━━━━━━━━━━━━━━━━━━━━━━━━━━━━━━\u001b[0m \u001b[32m71.9/71.9 kB\u001b[0m \u001b[31m6.7 MB/s\u001b[0m eta \u001b[36m0:00:00\u001b[0m\n",
            "\u001b[2K     \u001b[90m━━━━━━━━━━━━━━━━━━━━━━━━━━━━━━━━━━━━━━━━\u001b[0m \u001b[32m53.0/53.0 kB\u001b[0m \u001b[31m5.8 MB/s\u001b[0m eta \u001b[36m0:00:00\u001b[0m\n",
            "\u001b[2K     \u001b[90m━━━━━━━━━━━━━━━━━━━━━━━━━━━━━━━━━━━━━━━━\u001b[0m \u001b[32m46.0/46.0 kB\u001b[0m \u001b[31m5.3 MB/s\u001b[0m eta \u001b[36m0:00:00\u001b[0m\n",
            "\u001b[2K     \u001b[90m━━━━━━━━━━━━━━━━━━━━━━━━━━━━━━━━━━━━━━━━\u001b[0m \u001b[32m75.6/75.6 kB\u001b[0m \u001b[31m9.3 MB/s\u001b[0m eta \u001b[36m0:00:00\u001b[0m\n",
            "\u001b[2K     \u001b[90m━━━━━━━━━━━━━━━━━━━━━━━━━━━━━━━━━━━━━━━━\u001b[0m \u001b[32m50.8/50.8 kB\u001b[0m \u001b[31m5.5 MB/s\u001b[0m eta \u001b[36m0:00:00\u001b[0m\n",
            "\u001b[2K     \u001b[90m━━━━━━━━━━━━━━━━━━━━━━━━━━━━━━━━━━━━━━━━\u001b[0m \u001b[32m58.3/58.3 kB\u001b[0m \u001b[31m7.7 MB/s\u001b[0m eta \u001b[36m0:00:00\u001b[0m\n",
            "\u001b[2K     \u001b[90m━━━━━━━━━━━━━━━━━━━━━━━━━━━━━━━━━━━━━━━━\u001b[0m \u001b[32m341.4/341.4 kB\u001b[0m \u001b[31m30.6 MB/s\u001b[0m eta \u001b[36m0:00:00\u001b[0m\n",
            "\u001b[2K     \u001b[90m━━━━━━━━━━━━━━━━━━━━━━━━━━━━━━━━━━━━━━━━\u001b[0m \u001b[32m3.4/3.4 MB\u001b[0m \u001b[31m73.3 MB/s\u001b[0m eta \u001b[36m0:00:00\u001b[0m\n",
            "\u001b[2K     \u001b[90m━━━━━━━━━━━━━━━━━━━━━━━━━━━━━━━━━━━━━━━━\u001b[0m \u001b[32m1.3/1.3 MB\u001b[0m \u001b[31m72.2 MB/s\u001b[0m eta \u001b[36m0:00:00\u001b[0m\n",
            "\u001b[2K     \u001b[90m━━━━━━━━━━━━━━━━━━━━━━━━━━━━━━━━━━━━━━━━\u001b[0m \u001b[32m130.2/130.2 kB\u001b[0m \u001b[31m15.1 MB/s\u001b[0m eta \u001b[36m0:00:00\u001b[0m\n",
            "\u001b[2K     \u001b[90m━━━━━━━━━━━━━━━━━━━━━━━━━━━━━━━━━━━━━━━━\u001b[0m \u001b[32m77.9/77.9 kB\u001b[0m \u001b[31m9.7 MB/s\u001b[0m eta \u001b[36m0:00:00\u001b[0m\n",
            "\u001b[2K     \u001b[90m━━━━━━━━━━━━━━━━━━━━━━━━━━━━━━━━━━━━━━━━\u001b[0m \u001b[32m86.8/86.8 kB\u001b[0m \u001b[31m9.9 MB/s\u001b[0m eta \u001b[36m0:00:00\u001b[0m\n",
            "\u001b[?25h  Building wheel for pypika (pyproject.toml) ... \u001b[?25l\u001b[?25hdone\n"
          ]
        }
      ],
      "source": [
        "%pip install --upgrade --quiet  langchain-openai tiktoken chromadb langchain langchainhub\n",
        "import os\n",
        "os.environ[\"OPENAI_API_KEY\"] = \"sk-proj-KJyd9RwbvZdc2SfPnO9uT3BlbkFJ27bcBlgClithpzJQQoZ1\"\n"
      ]
    },
    {
      "cell_type": "markdown",
      "id": "36138740",
      "metadata": {
        "id": "36138740"
      },
      "source": [
        "We can use `chain_type=\"stuff\"`, especially if using larger context window models such as:\n",
        "\n",
        "* 16k token OpenAI `gpt-3.5-turbo-1106`\n",
        "* 100k token Anthropic [Claude-2](https://www.anthropic.com/index/claude-2)\n",
        "\n",
        "We can also supply `chain_type=\"map_reduce\"` or `chain_type=\"refine\"`."
      ]
    },
    {
      "cell_type": "code",
      "source": [
        "!pip install pypdf"
      ],
      "metadata": {
        "colab": {
          "base_uri": "https://localhost:8080/"
        },
        "id": "yyhx6100jqvI",
        "outputId": "090be8f7-8386-44c4-cb6a-c164bad2f704"
      },
      "id": "yyhx6100jqvI",
      "execution_count": null,
      "outputs": [
        {
          "output_type": "stream",
          "name": "stdout",
          "text": [
            "Collecting pypdf\n",
            "  Downloading pypdf-4.2.0-py3-none-any.whl (290 kB)\n",
            "\u001b[?25l     \u001b[90m━━━━━━━━━━━━━━━━━━━━━━━━━━━━━━━━━━━━━━━━\u001b[0m \u001b[32m0.0/290.4 kB\u001b[0m \u001b[31m?\u001b[0m eta \u001b[36m-:--:--\u001b[0m\r\u001b[2K     \u001b[91m━━━━━━━━━━━━━━━━━━━━━━━━━━━━\u001b[0m\u001b[90m╺\u001b[0m\u001b[90m━━━━━━━━━━━\u001b[0m \u001b[32m204.8/290.4 kB\u001b[0m \u001b[31m6.0 MB/s\u001b[0m eta \u001b[36m0:00:01\u001b[0m\r\u001b[2K     \u001b[90m━━━━━━━━━━━━━━━━━━━━━━━━━━━━━━━━━━━━━━━━\u001b[0m \u001b[32m290.4/290.4 kB\u001b[0m \u001b[31m5.7 MB/s\u001b[0m eta \u001b[36m0:00:00\u001b[0m\n",
            "\u001b[?25hRequirement already satisfied: typing_extensions>=4.0 in /usr/local/lib/python3.10/dist-packages (from pypdf) (4.11.0)\n",
            "Installing collected packages: pypdf\n",
            "Successfully installed pypdf-4.2.0\n"
          ]
        }
      ]
    },
    {
      "cell_type": "code",
      "execution_count": null,
      "id": "fd271681",
      "metadata": {
        "id": "fd271681",
        "outputId": "3ea8a543-8076-438b-d183-5ff5a3dcc296",
        "colab": {
          "base_uri": "https://localhost:8080/",
          "height": 198
        }
      },
      "outputs": [
        {
          "output_type": "stream",
          "name": "stderr",
          "text": [
            "WARNING:pypdf._reader:Ignoring wrong pointing object 6 0 (offset 0)\n",
            "WARNING:pypdf._reader:Ignoring wrong pointing object 8 0 (offset 0)\n",
            "WARNING:pypdf._reader:Ignoring wrong pointing object 10 0 (offset 0)\n",
            "WARNING:pypdf._reader:Ignoring wrong pointing object 26 0 (offset 0)\n"
          ]
        },
        {
          "output_type": "execute_result",
          "data": {
            "text/plain": [
              "\"The text discusses various aspects of Ayurvedic philosophy, focusing on the concepts of doshas, dhatus, srotas, and the interplay between the body, mind, and consciousness. It enumerates the different types of doshic combinations and their effects on health, detailing how doshas can manifest in various combinations and states, leading to different health outcomes. The text also delves into the anatomy and physiology of the human body from an Ayurvedic perspective, describing the functions and disorders associated with different body parts and systems, including the roles of various bodily fluids and tissues.\\n\\nFurther, it explores the concept of Agni (digestive fire) and its types, which are crucial for maintaining health. The discussion extends to the mind and senses, explaining how they interact with the material and spiritual elements of human existence. The text also touches on philosophical aspects, discussing the nature of the self (Atman), its relationship with the universe (Prakriti), and the process of achieving spiritual liberation.\\n\\nOverall, the text provides a comprehensive overview of Ayurvedic principles, focusing on how balance and imbalance in the body's systems according to Ayurvedic theory affect overall health and well-being, and it connects these concepts to broader spiritual and philosophical contexts.\""
            ],
            "application/vnd.google.colaboratory.intrinsic+json": {
              "type": "string"
            }
          },
          "metadata": {},
          "execution_count": 19
        }
      ],
      "source": [
        "from langchain.chains.summarize import load_summarize_chain\n",
        "from langchain_community.document_loaders import WebBaseLoader\n",
        "from langchain_openai import ChatOpenAI\n",
        "from langchain_community.document_loaders import PyPDFDirectoryLoader\n",
        "loader = PyPDFDirectoryLoader(\"/content/data\")\n",
        "docs = loader.load()\n",
        "\n",
        "llm = ChatOpenAI(temperature=0, model_name=\"gpt-4-turbo\")\n",
        "chain = load_summarize_chain(llm, chain_type=\"stuff\")\n",
        "\n",
        "chain.run(docs)"
      ]
    },
    {
      "cell_type": "markdown",
      "id": "615b36e1",
      "metadata": {
        "id": "615b36e1"
      },
      "source": [
        "## Option 1. Stuff\n",
        "\n",
        "When we use `load_summarize_chain` with `chain_type=\"stuff\"`, we will use the [StuffDocumentsChain](https://api.python.langchain.com/en/latest/chains/langchain.chains.combine_documents.stuff.StuffDocumentsChain.html#langchain.chains.combine_documents.stuff.StuffDocumentsChain).\n",
        "\n",
        "The chain will take a list of documents, inserts them all into a prompt, and passes that prompt to an LLM:"
      ]
    },
    {
      "cell_type": "code",
      "execution_count": null,
      "id": "ef45585d",
      "metadata": {
        "id": "ef45585d",
        "outputId": "7fa9ccb9-4258-4e21-da1c-078e8b8c1619",
        "colab": {
          "base_uri": "https://localhost:8080/"
        }
      },
      "outputs": [
        {
          "output_type": "stream",
          "name": "stderr",
          "text": [
            "WARNING:pypdf._reader:Ignoring wrong pointing object 6 0 (offset 0)\n",
            "WARNING:pypdf._reader:Ignoring wrong pointing object 8 0 (offset 0)\n",
            "WARNING:pypdf._reader:Ignoring wrong pointing object 10 0 (offset 0)\n",
            "WARNING:pypdf._reader:Ignoring wrong pointing object 26 0 (offset 0)\n"
          ]
        },
        {
          "output_type": "stream",
          "name": "stdout",
          "text": [
            "The text discusses various aspects of Ayurvedic philosophy, focusing on the concepts of doshas (bodily humors), dhatus (tissues), srotas (channels), and the interplay between the body, mind, and consciousness. It enumerates different types of doshic combinations and their effects on health, detailing how doshas can manifest in both aggravated and diminished states, affecting the body's balance and function.\n",
            "\n",
            "The discussion extends to the anatomy and physiology of the human body from an Ayurvedic perspective, describing the roles and functions of various body parts and systems, including the cardiovascular system, skin layers, and the digestive system. It also covers the treatment principles for balancing doshas and treating diseases, emphasizing the importance of understanding the body's constitution and the qualities of different substances and their effects on health.\n",
            "\n",
            "Furthermore, the text delves into the philosophical aspects of Ayurveda, exploring the nature of the mind, senses, and the soul (self), and their interactions. It discusses the concept of Prakriti (nature) and Purusha (consciousness), the process of creation and dissolution, and the signs of life and consciousness. The text underscores the importance of balance and harmony between the physical, mental, and spiritual aspects of life for health and well-being.\n"
          ]
        }
      ],
      "source": [
        "from langchain.chains.combine_documents.stuff import StuffDocumentsChain\n",
        "from langchain.chains.llm import LLMChain\n",
        "from langchain_core.prompts import PromptTemplate\n",
        "\n",
        "# Define prompt\n",
        "prompt_template = \"\"\"Write a concise summary of the following:\n",
        "\"{text}\"\n",
        "CONCISE SUMMARY:\"\"\"\n",
        "prompt = PromptTemplate.from_template(prompt_template)\n",
        "\n",
        "# Define LLM chain\n",
        "llm = ChatOpenAI(temperature=0, model_name=\"gpt-4-turbo\")\n",
        "llm_chain = LLMChain(llm=llm, prompt=prompt)\n",
        "\n",
        "# Define StuffDocumentsChain\n",
        "stuff_chain = StuffDocumentsChain(llm_chain=llm_chain, document_variable_name=\"text\")\n",
        "\n",
        "docs = loader.load()\n",
        "print(stuff_chain.run(docs))"
      ]
    },
    {
      "cell_type": "markdown",
      "id": "4e4e4a43",
      "metadata": {
        "id": "4e4e4a43"
      },
      "source": [
        "Great! We can see that we reproduce the earlier result using the `load_summarize_chain`.\n",
        "\n",
        "### Go deeper\n",
        "\n",
        "* You can easily customize the prompt.\n",
        "* You can easily try different LLMs, (e.g., [Claude](/docs/integrations/chat/anthropic)) via the `llm` parameter."
      ]
    },
    {
      "cell_type": "markdown",
      "id": "ad6cabee",
      "metadata": {
        "id": "ad6cabee"
      },
      "source": [
        "## Option 2. Map-Reduce\n",
        "\n",
        "Let's unpack the map reduce approach. For this, we'll first map each document to an individual summary using an `LLMChain`. Then we'll use a `ReduceDocumentsChain` to combine those summaries into a single global summary.\n",
        "\n",
        "First, we specify the LLMChain to use for mapping each document to an individual summary:"
      ]
    },
    {
      "cell_type": "markdown",
      "source": [
        "### Creating Map Chain"
      ],
      "metadata": {
        "id": "yi1412D8g1EB"
      },
      "id": "yi1412D8g1EB"
    },
    {
      "cell_type": "code",
      "execution_count": null,
      "id": "a1e6773c",
      "metadata": {
        "id": "a1e6773c"
      },
      "outputs": [],
      "source": [
        "from langchain.chains import MapReduceDocumentsChain, ReduceDocumentsChain\n",
        "from langchain_text_splitters import CharacterTextSplitter\n",
        "\n",
        "llm = ChatOpenAI(temperature=0)\n",
        "\n",
        "# Map\n",
        "map_template = \"\"\"The following is a set of documents\n",
        "{docs}\n",
        "Based on this list of docs, please identify the main themes\n",
        "Helpful Answer:\"\"\"\n",
        "map_prompt = PromptTemplate.from_template(map_template)\n",
        "map_chain = LLMChain(llm=llm, prompt=map_prompt)"
      ]
    },
    {
      "cell_type": "markdown",
      "id": "272ce8ce-919d-4ded-bbd5-a53a8a30bc66",
      "metadata": {
        "id": "272ce8ce-919d-4ded-bbd5-a53a8a30bc66"
      },
      "source": [
        "We can also use the Prompt Hub to store and fetch prompts.\n",
        "\n",
        "This will work with your [LangSmith API key](https://docs.smith.langchain.com/).\n",
        "\n",
        "For example, see the map prompt [here](https://smith.langchain.com/hub/rlm/map-prompt)."
      ]
    },
    {
      "cell_type": "code",
      "execution_count": null,
      "id": "ce48b805-d98b-4e0f-8b9e-3b3e72cad3d3",
      "metadata": {
        "id": "ce48b805-d98b-4e0f-8b9e-3b3e72cad3d3"
      },
      "outputs": [],
      "source": [
        "#from langchain import hub\n",
        "\n",
        "#map_prompt = hub.pull(\"rlm/map-prompt\")\n",
        "#map_chain = LLMChain(llm=llm, prompt=map_prompt)"
      ]
    },
    {
      "cell_type": "markdown",
      "source": [
        "### Creating Reduce Chain"
      ],
      "metadata": {
        "id": "1pPuaLQxg7Ry"
      },
      "id": "1pPuaLQxg7Ry"
    },
    {
      "cell_type": "markdown",
      "id": "bee3c331",
      "metadata": {
        "id": "bee3c331"
      },
      "source": [
        "The `ReduceDocumentsChain` handles taking the document mapping results and reducing them into a single output. It wraps a generic `CombineDocumentsChain` (like `StuffDocumentsChain`) but adds the ability to collapse documents before passing it to the `CombineDocumentsChain` if their cumulative size exceeds `token_max`. In this example, we can actually re-use our chain for combining our docs to also collapse our docs.\n",
        "\n",
        "So if the cumulative number of tokens in our mapped documents exceeds 4000 tokens, then we'll recursively pass in the documents in batches of < 4000 tokens to our `StuffDocumentsChain` to create batched summaries. And once those batched summaries are cumulatively less than 4000 tokens, we'll pass them all one last time to the `StuffDocumentsChain` to create the final summary."
      ]
    },
    {
      "cell_type": "code",
      "execution_count": null,
      "id": "6a718890-99ab-439a-8f79-b9ae9c58ad24",
      "metadata": {
        "id": "6a718890-99ab-439a-8f79-b9ae9c58ad24"
      },
      "outputs": [],
      "source": [
        "# Reduce\n",
        "reduce_template = \"\"\"The following is set of summaries:\n",
        "{docs}\n",
        "Take these and distill it into a final, consolidated summary of the main themes.\n",
        "Helpful Answer:\"\"\"\n",
        "reduce_prompt = PromptTemplate.from_template(reduce_template)"
      ]
    },
    {
      "cell_type": "code",
      "execution_count": null,
      "id": "f189184a-673e-4530-8a6b-57b091045d87",
      "metadata": {
        "id": "f189184a-673e-4530-8a6b-57b091045d87"
      },
      "outputs": [],
      "source": [
        "# Note we can also get this from the prompt hub, as noted above\n",
        "#reduce_prompt = hub.pull(\"rlm/map-prompt\")"
      ]
    },
    {
      "cell_type": "code",
      "execution_count": null,
      "id": "c9d1da97-d590-4a96-82b2-8002d27fd7f6",
      "metadata": {
        "id": "c9d1da97-d590-4a96-82b2-8002d27fd7f6",
        "outputId": "87bdab51-7877-4768-aac2-2b9451b04e8c",
        "colab": {
          "base_uri": "https://localhost:8080/"
        }
      },
      "outputs": [
        {
          "output_type": "execute_result",
          "data": {
            "text/plain": [
              "PromptTemplate(input_variables=['docs'], template='The following is set of summaries:\\n{docs}\\nTake these and distill it into a final, consolidated summary of the main themes.\\nHelpful Answer:')"
            ]
          },
          "metadata": {},
          "execution_count": 26
        }
      ],
      "source": [
        "reduce_prompt"
      ]
    },
    {
      "cell_type": "code",
      "execution_count": null,
      "id": "1edb1b0d",
      "metadata": {
        "id": "1edb1b0d"
      },
      "outputs": [],
      "source": [
        "# Run chain\n",
        "reduce_chain = LLMChain(llm=llm, prompt=reduce_prompt)\n",
        "\n",
        "# Takes a list of documents, combines them into a single string, and passes this to an LLMChain\n",
        "combine_documents_chain = StuffDocumentsChain(\n",
        "    llm_chain=reduce_chain, document_variable_name=\"docs\"\n",
        ")\n",
        "\n",
        "# Combines and iteratively reduces the mapped documents\n",
        "reduce_documents_chain = ReduceDocumentsChain(\n",
        "    # This is final chain that is called.\n",
        "    combine_documents_chain=combine_documents_chain,\n",
        "    # If documents exceed context for `StuffDocumentsChain`\n",
        "    collapse_documents_chain=combine_documents_chain,\n",
        "    # The maximum number of tokens to group documents into.\n",
        "    token_max=4000,\n",
        ")"
      ]
    },
    {
      "cell_type": "markdown",
      "source": [
        "### Combining Map and Reduce Chains"
      ],
      "metadata": {
        "id": "ZK-X1fHuhB55"
      },
      "id": "ZK-X1fHuhB55"
    },
    {
      "cell_type": "markdown",
      "id": "fdb5ae1a",
      "metadata": {
        "id": "fdb5ae1a"
      },
      "source": [
        "Combining our map and reduce chains into one:"
      ]
    },
    {
      "cell_type": "code",
      "execution_count": null,
      "id": "22f1cdc2",
      "metadata": {
        "id": "22f1cdc2"
      },
      "outputs": [],
      "source": [
        "# Combining documents by mapping a chain over them, then combining results\n",
        "map_reduce_chain = MapReduceDocumentsChain(\n",
        "    # Map chain\n",
        "    llm_chain=map_chain,\n",
        "    # Reduce chain\n",
        "    reduce_documents_chain=reduce_documents_chain,\n",
        "    # The variable name in the llm_chain to put the documents in\n",
        "    document_variable_name=\"docs\",\n",
        "    # Return the results of the map steps in the output\n",
        "    return_intermediate_steps=False,\n",
        ")\n",
        "\n",
        "text_splitter = CharacterTextSplitter.from_tiktoken_encoder(\n",
        "    chunk_size=1000, chunk_overlap=0\n",
        ")\n",
        "split_docs = text_splitter.split_documents(docs)"
      ]
    },
    {
      "cell_type": "code",
      "execution_count": null,
      "id": "c7afb8c3",
      "metadata": {
        "id": "c7afb8c3",
        "outputId": "fd848c84-f133-44f4-8048-52107e68eb57",
        "colab": {
          "base_uri": "https://localhost:8080/"
        }
      },
      "outputs": [
        {
          "output_type": "stream",
          "name": "stdout",
          "text": [
            "The main themes identified in the set of documents encompass a wide range of topics related to Ayurvedic principles, human anatomy, bodily functions, doshas, dhatus, srotas, and the nature of the self. These themes include the qualities and characteristics of the doshas (Vata, Pitta, Kapha), the importance of maintaining balance in the body, the impact of vitiated doshas on health, the functions and disorders of bodily tissues and fluids, the role of Agni in digestion, the relationship between the body, mind, and spirit, and the concept of the self in relation to consciousness and perception. The documents also delve into the nature of sense organs, intellect, and sense objects, as well as the eternal nature of the self and its connection to the supreme self. Overall, the main themes revolve around holistic health, balance, and the interconnectedness of physical, mental, and spiritual aspects of human existence.\n"
          ]
        }
      ],
      "source": [
        "print(map_reduce_chain.run(split_docs))"
      ]
    },
    {
      "cell_type": "markdown",
      "id": "e62c21cf",
      "metadata": {
        "id": "e62c21cf"
      },
      "source": [
        "### Go deeper\n",
        "\n",
        "**Customization**\n",
        "\n",
        "* As shown above, you can customize the LLMs and prompts for map and reduce stages.\n",
        "\n",
        "**Real-world use-case**\n",
        "\n",
        "* See [this blog post](https://blog.langchain.dev/llms-to-improve-documentation/) case-study on analyzing user interactions (questions about LangChain documentation)!  \n",
        "* The blog post and associated [repo](https://github.com/mendableai/QA_clustering) also introduce clustering as a means of summarization.\n",
        "* This opens up a third path beyond the `stuff` or `map-reduce` approaches that is worth considering.\n",
        "\n",
        "![Image description](https://github.com/langchain-ai/langchain/blob/master/docs/static/img/summarization_use_case_3.png?raw=1)"
      ]
    },
    {
      "cell_type": "markdown",
      "id": "f08ff365",
      "metadata": {
        "id": "f08ff365"
      },
      "source": [
        "## Option 3. Refine\n",
        "\n",
        "[RefineDocumentsChain](/docs/modules/chains#legacy-chains) is similar to map-reduce:\n",
        "\n",
        "> The refine documents chain constructs a response by looping over the input documents and iteratively updating its answer. For each document, it passes all non-document inputs, the current document, and the latest intermediate answer to an LLM chain to get a new answer.\n",
        "\n",
        "This can be easily run with the `chain_type=\"refine\"` specified."
      ]
    },
    {
      "cell_type": "code",
      "execution_count": null,
      "id": "de1dc10e",
      "metadata": {
        "id": "de1dc10e",
        "outputId": "3501d489-9e02-4ce2-e857-fbe6345f3f0a",
        "colab": {
          "base_uri": "https://localhost:8080/",
          "height": 132
        }
      },
      "outputs": [
        {
          "output_type": "execute_result",
          "data": {
            "text/plain": [
              "\"The text delves into the enumeration of combinations of doshas, totaling 50 types including aggravation and diminution. It discusses the various types of doshic aggravations and diminutions, as well as the conditions of taking them together. Doshas can combine in different proportions, totaling 62 combinations. The text also explores the normal functions and adverse effects of nature, as well as the characteristics of Vayu in the body, including its forms, vitiation, and effects on strength, complexion, happiness, and lifespan. It further delves into the etiology of V's vitiation in the dhatus, sub-divisions of Vata, and associated disorders. The importance of treating V with opposite qualities and maintaining balance for overall health is emphasized. Additionally, the text discusses the normal functions and adverse effects of Pitta and Kapha, along with their characteristics in vitiation and associated disorders. Treatment methods for pacifying Pitta and Kapha are highlighted, emphasizing the use of substances with opposite qualities. The text also provides insights into the qualities and attributes of individuals with predominance in Pitta and Kapha. Furthermore, it explores anatomical aspects of the body, including the ten seats of vital breath, cardiovascular system, layers of skin, bones, sense organs, body fluids, and the seven dhatus. It discusses dhatu nourishment, Ojas, signs of diminution of dhatus, blood disorders, Sara-constitutional essence, srotas-body channels, and the morbidity of the srotas. The heart is described as the seat of vital entities, consciousness, and Ojas, with ten great vessels carrying Ojas pulsating throughout the body. The text also emphasizes the importance of avoiding afflictions of the mind, taking measures for heart and Ojas health, cleansing of srotas, and cultivating serenity of mind and knowledge. Additionally, it provides an enumeration of body parts, including the six layers of the skin and the division of the body into six parts. The text further details the bones in the body, totaling 360 including teeth sockets and nails, with a breakdown of each bone in the body. The text also includes additional information on the seats of senses, sense organs, motor organs, seat of consciousness, seats of vital breath, visceral organs, and sub-parts of the body, providing a comprehensive understanding of the anatomical aspects discussed. The text also touches upon the major orifices of the body, including those in the head and below, as well as the demonstrable versus conjectured anatomy, highlighting ligaments, veins, arteries, muscles, vital organs, joints, capillaries, and various types of hair on the body. The text introduces the concept of measuring body components in anjalis, a unit of measure equal to a handful, for quantifying fluids and substances in the body, shedding light on the volumes of various bodily components such as water, rasa, blood, feces, urine, muscle fat, fat, bone marrow, brain substance, semen, and Ojas. Additionally, the text explores the predominance of the five elements in different body parts, providing a deeper understanding of the elemental composition of the body and its various functions. The text also discusses the body's tissues, known as Dhatus, which include Rasa, Rakta, Mamsa, Meda, Asthi, Majja, Shukra, and Artava. It explains the heaviness and density of the dhatus in progressive order, as well as the process of nourishment from dhatu to dhatu and from food to dhatu. The text emphasizes the importance of proper nourishment for the body tissues and the role of nutrients in maintaining overall health and vitality. The text further elaborates on the role of Rasa (liquid food in the blood stream) and Malas (wastes) in maintaining the balance of the Dhatus, as well as how they can be used to treat imbalances in the Dhatus by adjusting their flow and regulating Jathar Agni. Ojas is highlighted as the sustainer of life, located in the heart, and essential for the well-being of individuals. Its characteristics, causes of diminution, and importance in maintaining health are discussed in detail. The text also emphasizes the balance of Dhatus for overall health and the impact of imbalances on the body, leading to disease or destruction. The text further delves into the definition of the imbalanced state of Dhatus, the simultaneous increase and decrease of contrary Dhatus, and the therapeutic methods for balancing the Dhatus. It provides instructions for maintaining balanced Dhatus through the use of similar and contrary diets, emphasizing the importance of equilibrium in the body constituents for overall health and well-being. The text also discusses factors for increasing and decreasing body constituents, factors leading to body growth, factors leading to greater strength, and factors responsible for the digestion of food into Dhatus. It explains the function of these factors and the importance of proper digestion and metabolism of food into tissues for maintaining health and vitality. The text further explores the impact of doshas on assimilable and waste body products, highlighting the effects of V, P, and K when deranged on all entities morbidly due to their nature of causing morbidity. It emphasizes the importance of maintaining the normalcy of doshas for freedom from disorder and overall health. Signs of diminution of Dhatus are also discussed, providing examples such as patients stirring about, intolerance to loud sounds, palpitations and aches in the heart, and failure even on slight exertion in the case of Rasa diminution. The text delves into the effects of imbalances in specific Dhatus such as Rakta, Mamsa, Medas, Asthi, Majja, Shukra, and Ojas, detailing the physical manifestations and symptoms associated with their diminution. It further discusses the importance of maintaining equilibrium in all Dhatus for overall health and well-being, emphasizing the role of blood in providing strength, luster, and a happy life when pure. The text also highlights the signs of pure blood and the significance of maintaining its purity for vitality and overall health. Additionally, the text explores the treatment of disorders related to blood, emphasizing the importance of understanding the characteristics and functions of blood in maintaining health and well-being. It provides insights into the signs of imbalance in blood and malas, as well as the effects of such imbalances on the body. The text also discusses the importance of proper digestion and metabolism in maintaining the balance of Dhatus and the role of nutrients in nourishing the body tissues. It further elaborates on the impact of doshas on assimilable and waste body products, highlighting the effects of V, P, and K when deranged on overall health and vitality. The text emphasizes the importance of maintaining the normalcy of doshas for freedom from disorder and overall well-being, providing guidance on how to recognize and address imbalances in the body for optimal health. The text also provides information on the causes of impure blood, disorders arising from impure blood, treatment of diseases caused by impure blood, signs of doshic involvement in blood, and the importance of evacuating blood and Pitta for treatment. The text also discusses the Sara (Constitutional Essence) and the signs of tissue excellence for different dhatus, providing a deeper understanding of the strength and characteristics associated with each dhatu. The text further elaborates on the specific characteristics and attributes of each dhatu, including Medas (fat), Asthisara (bone), Majjasara (marrow/nerve), Sukrasara (semen), and Sattva (mind), detailing the physical and mental qualities associated with each. It emphasizes the importance of these essences in determining an individual's strength, longevity, happiness, wealth, and overall well-being. The text also discusses the significance of balanced essences in promoting health and vitality, while imbalances can lead to various disorders and diseases. Additionally, the text provides guidance on recognizing and maintaining moderate levels of essences for optimal health and functioning. The text further delves into the definition of Srotas as the transporting passages of dhatus undergoing transformation. It highlights the importance of normal srotas for the absence of disorders in the body, as they carry food essence and wastes. The text also discusses the number of srotas, with some considering them innumerable and others numerable but still numerous. It emphasizes that the srotas are made of tissue, nourish the dhatus, and carry food. The text provides a comprehensive understanding of the role of srotas in maintaining overall health and well-being. Srotas have color similar to their own dhatus, are tubular, large or small; long and branch-like in shape. The doshas move all over the body with all the srotas serving the purpose of their passage. The mind and other transcending sense organs also utilize the entire sentient body as a passageway and location. The text briefly describes some types of srotas, providing wise individuals with knowledge of those not mentioned and offering a full grasp for others. The text also details the root symptoms of imbalance, causes, and treatments for various srotas related to carrying vital breath, water, and food. The text further provides insights into the treatment methods for all srotas related to Rasa, Raktavaha, Mamsavaha, Medovaha, Asthivaha, Majjavaha, Sukravaha, Mutravaha, and Purisavaha, detailing the causes and symptoms of imbalances in each srota and offering guidance on how to address them effectively for optimal health and well-being. The text also discusses the causes of morbidity of srotas, including blockage of excretory passages and food and behavior similar to doshas but dissimilar to dhatus in properties. It provides examples of foods that can cause morbidity in the srotas and emphasizes the importance of maintaining a balance in food qualities for overall health. Additionally, the text explores symptoms of morbidity of the srotas, such as excessive flow, insufficient flow, formation of nodules, and flow of contents in the wrong direction. It also discusses symptoms of morbidity of the dhatu srotas, which are similar to the respective dhatus affected. The text further delves into the names of visible and invisible spaces within the dhatus, including srotas, sira, dhamani, rasayani, rasavahini, nadi, pathin, marga, sariracchidra, samvrtasamvrta, sthana, asaya, and niketa. It explains how morbidity of the channels can cause morbidity of the dhatus, emphasizing the interconnectedness of the body's systems. The text also discusses the impact of the morbidity of the srotas on the dhatus, explaining how the vitiated doshas can affect the flow of formative ingredients and cause deterioration in the dhatus. It highlights the importance of maintaining the normalcy of the srotas for overall health and well-being, providing insights into the reasons behind the interconnectedness of the srotas and dhatus. The text emphasizes the vitiating nature of doshas and their impact on all srotas and dhatus, underscoring the need to address imbalances in the srotas to prevent morbidity in the dhatus. Additionally, the text introduces the concept of Agni (Digestive Fire/ Metabolism) and its importance in maintaining strength, health, and life-span. It discusses the four types of Agni - Intense, Mild, Regular, and Irregular - and their relation to body types. The text also provides information on the Amasaya (stomach) as the organ responsible for digesting food and distributing its mature products to all organs through the blood vessels. The text further explores the mind, senses, and the soul, discussing the relationship of body, mind, and spirit, the three mind (psychic) humors, the seven sattvic (balanced) personality types, the six rajasic (agitated) personality types, and the three tamasic (ignorant) personality types. It also delves into spiritual liberation, providing a comprehensive understanding of the interconnectedness of body, mind, and spirit for overall health and well-being. The text also provides insights into the nature of the mind, its transcendence of the sense organs, and its role in actions and therapeutic measures. It discusses the sense organs, their respective sense objects, and the relationship between the mind and sense organs in perception. The text also explores the distinction between sentient and non-sentient beings based on the presence of sense organs. Additionally, it delves into the perception of knowledge through the contact of self, sense organs, mind, and sense objects, as well as the affinity of sense organs with their respective sense objects based on elemental similarity. The text further discusses the causes of damaged and regenerated sensory perception, emphasizing the importance of a balanced and functioning mind in conjunction with the sense organs. The text also delves into the types of personal self according to constituents, the source of the personal self, and the characteristics associated with the personal self. It explores the nature of the mind, its qualities, and its role in producing knowledge through contact with self, sense organs, and sense objects. The text also discusses the relationship between body, mind, and spirit, as well as the types of personal self based on constituents and characteristics. It delves into the concept of Purusa as the aggregate of 5 mahabhutas and consciousness, as well as the division of constituents that make up the personal self. Additionally, the text provides insights into the mind as the entity responsible for producing knowledge through contact with self, sense organs, and sense objects, highlighting its subtleness and oneness as qualities. The text further explores the object of thinking, analyzing, reasoning, meditating, determination, and whatever is to be perceived by the mind as its object. The action of the mind consists of control over senses, self-restraint, reasoning, and analyzing, beyond which lies the jurisdiction of intellect. The text also discusses the processing of information, where sense objects are received by sense organs along with the mind, analyzed for merits or demerits, and forwarded to the intellect for decisive knowledge. The text further explores the composition of the five sense organs with predominance of one of the five mahabhutas in each, known through their actions and serving as the basis for intelligence to proceed. Additionally, the text details the five motor organs, such as hands, feet, anus, genitals, and organ of speech, each with specific functions related to movement, discharging, receiving, holding, and speech. The text also elaborates on the properties and characters of the five mahabhutas - akasa, vayu, agni, ap, and prthivi - along with their respective sense objects and synonyms. The text then delves into the intellect, its emanation through the mind, and the concept of Purusa as the aggregate of 24 entities. It discusses the association of rajas and tamas with the personal self, leading to endless conjunctions, and the cessation of conjunction with the predominance of Sattva. The text emphasizes the importance of understanding the personal self as the cause of action, fruit, knowledge, ignorance, pleasure, pain, life, death, and ownership. It highlights the significance of recognizing the personal self as the source of light, darkness, truth, falsehood, scripture, auspicious and inauspicious actions, and the substratum for happiness, misery, going, coming, speech, understanding, treatises, life, death, knowledge, and emancipation. The text refutes the notion of the body being made of instrumental organs without an agent, emphasizing the reasoning and scriptural support behind the concept of the personal self as the cause. It concludes by discussing the continuous transformation of the personal self and the evolution of new products through similarity, ultimately recognizing the personal self as neither the doer nor the enjoyer of action. The text further explores the concept of the self as the eternal cause of living beings in their actions and enjoyment of their fruits, highlighting the difference between the eternal self and the personal self born of ignorance, desire, and aversion. It discusses the self's possession of knowledge through conjunction with instruments and the impact of impurity or lack of contact on the manifestation of knowledge. The text also delves into the imperceptibility of the eternal self to caused entities and the distinction between the manifest and unmanifest aspects of the self. It provides insights into the eternal nature of the self and its role as the knower of the body, omnipresent, and indestructible. The text further explores the manifestation of the self through the mind, intellect, sense organs, and motor organs, emphasizing the role of conjunction in action and enjoyment of fruits. Additionally, the text discusses the existence and non-existence of entities, the eternal and non-eternal nature of the self, and the imperceptibility of the eternal to caused entities. It provides a comprehensive understanding of the manifest and unmanifest aspects of the self, highlighting the role of sense organs in perceiving the manifest and signs in knowing the unmanifest. The text concludes by discussing the eternal, omnipresent, and indestructible nature of the self as the knower of the body and the distinction between the manifest and unmanifest aspects of the self.\""
            ],
            "application/vnd.google.colaboratory.intrinsic+json": {
              "type": "string"
            }
          },
          "metadata": {},
          "execution_count": 30
        }
      ],
      "source": [
        "chain = load_summarize_chain(llm, chain_type=\"refine\")\n",
        "chain.run(split_docs)"
      ]
    },
    {
      "cell_type": "markdown",
      "id": "5b46f44d",
      "metadata": {
        "id": "5b46f44d"
      },
      "source": [
        "It's also possible to supply a prompt and return intermediate steps."
      ]
    },
    {
      "cell_type": "code",
      "execution_count": null,
      "id": "f86c8072",
      "metadata": {
        "id": "f86c8072"
      },
      "outputs": [],
      "source": [
        "prompt_template = \"\"\"Write a concise summary of the following:\n",
        "{text}\n",
        "CONCISE SUMMARY:\"\"\"\n",
        "prompt = PromptTemplate.from_template(prompt_template)\n",
        "\n",
        "refine_template = (\n",
        "    \"Your job is to produce a final summary\\n\"\n",
        "    \"We have provided an existing summary up to a certain point: {existing_answer}\\n\"\n",
        "    \"We have the opportunity to refine the existing summary\"\n",
        "    \"(only if needed) with some more context below.\\n\"\n",
        "    \"------------\\n\"\n",
        "    \"{text}\\n\"\n",
        "    \"------------\\n\"\n",
        "    \"Given the new context, refine the original summary in Italian\"\n",
        "    \"If the context isn't useful, return the original summary.\"\n",
        ")\n",
        "refine_prompt = PromptTemplate.from_template(refine_template)\n",
        "chain = load_summarize_chain(\n",
        "    llm=llm,\n",
        "    chain_type=\"refine\",\n",
        "    question_prompt=prompt,\n",
        "    refine_prompt=refine_prompt,\n",
        "    return_intermediate_steps=True,\n",
        "    input_key=\"input_documents\",\n",
        "    output_key=\"output_text\",\n",
        ")\n",
        "result = chain({\"input_documents\": split_docs}, return_only_outputs=True)"
      ]
    },
    {
      "cell_type": "code",
      "execution_count": null,
      "id": "d9600b67-79d4-4f85-aba2-9fe81fa29f49",
      "metadata": {
        "id": "d9600b67-79d4-4f85-aba2-9fe81fa29f49",
        "outputId": "7b3529c4-0a08-4236-c7c8-3a9e8185d74b",
        "colab": {
          "base_uri": "https://localhost:8080/"
        }
      },
      "outputs": [
        {
          "output_type": "stream",
          "name": "stdout",
          "text": [
            "Il testo fornisce una conoscenza dettagliata del corpo umano, inclusi i dieci sedi del respiro vitale, il sistema cardiovascolare, i sei strati della pelle, le 360 ossa (tra cui prese per i denti e unghie), gli organi di senso, i 56 sottoparti del corpo, i fluidi corporei, la predominanza dei cinque elementi nelle parti del corpo, i sette dhatus (tessuti corporei), il processo di nutrimento dei dhatus, l'uso di rasa e mala per trattare i dhatus, l'Ojas, l'aumento e la diminuzione dei dhatus, i segni di diminuzione dei dhatus, il sangue e il trattamento dei disturbi del sangue, il Sara- essenza costituzionale, i segni di eccellenza dei tessuti, e i tipi di essenza costituzionale Sara. La conoscenza dettagliata del corpo è essenziale per il benessere, e comprendere le entità del corpo consente di conoscere i fattori utili per il corpo. Il cuore è descritto come il substrato di entità come la mente, gli organi di senso, l'intelletto, gli oggetti dei sensi e il sé, insieme alle qualità, ed è il luogo in cui risiede la vita percepita attraverso i sensi. Il cuore è anche il serbatoio di Ojas e della coscienza, ed è chiamato \"Mahat\" (grande) e \"artha\" (che serve a tutti i fini) per la sua importanza. La pelle è composta da sei strati, ognuno con specifiche funzioni e caratteristiche. Il corpo umano è diviso in sei parti: due estremità superiori, due estremità inferiori, testa-collo e tronco (petto e addome). Il corpo umano è costituito da 360 ossa, tra cui prese per i denti e le unghie, che includono varie parti come le mani, i piedi, le braccia, le gambe, le ginocchia, le anche, le costole, la mandibola e altre parti anatomiche. Ci sono inoltre dettagli sui sedi dei sensi, gli organi sensoriali, gli organi motori, il cuore come sede della coscienza e dei dieci sedi del respiro vitale. Inoltre, sono menzionati i 56 sottoparti del corpo, i 9 orifizi principali, e la distinzione tra anatomia dimostrabile e congetturata, con una lista delle parti anatomiche congetturate. La quantificazione delle entità corporee liquide in unità di misura come gli \"anjali\" è stata aggiunta, con dettagli sui fluidi corporei e le loro quantità relative. La conoscenza dettagliata del corpo umano porta a un'attaccamento se vista sinteticamente e all'emancipazione se vista analiticamente. I tessuti corporei, i dhatus, sono descritti come Rasa, Rakta, Mamsa, Meda, Asthi, Majja, Shukra/Artava, con un'indicazione della loro densità progressiva e del processo di nutrimento da un dhatu all'altro. Viene anche spiegato il processo di nutrimento dal cibo ai dhatus, con dettagli sulle fasi di trasformazione e sulle sostanze prodotte durante il processo. Inoltre, si aggiunge che i dhatus sono mantenuti in equilibrio grazie al rasa e alle malas, che vengono utilizzati per trattare eventuali squilibri nei dhatus. Ojas è descritto come l'essenza vitale che mantiene gli esseri viventi, essenziale per la vita stessa e la nutrizione dell'embrione, con una presenza predominante nel cuore e una serie di cause che possono portare alla sua diminuzione. La conoscenza dettagliata del corpo umano e dei suoi costituenti è fondamentale per la salute e il benessere, poiché lo squilibrio dei dhatus può portare a malattie e alla distruzione del corpo. Lo stato di squilibrio dei dhatus può comportare un aumento o una diminuzione parziale o totale, con dhatus contrari che possono aumentare e diminuire contemporaneamente a causa delle proprietà opposte. La terapia adeguata mira a riportare i dhatus in equilibrio riducendo quelli aumentati e aumentando quelli diminuiti. L'obiettivo principale della terapia è mantenere l'equilibrio dei dhatus, e le persone sane sagge utilizzano alimenti e preparazioni dietetiche adatte in modo alternato per mantenere l'equilibrio. L'uso di alimenti simili o contrari può aumentare o diminuire i dhatus del corpo, con proprietà come pesantezza-leggerezza, freddo-caldo, unzione-ruvidezza, stabilità-mobilità, morbidezza-durezza, non-viscosità-viscosità, liscio-ruvido, minuziosità-grossolanità, solidità-liquidità che influenzano l'aumento o la diminuzione dei dhatus. I fattori per l'aumento e la diminuzione dei dhatus sono spiegati dettagliatamente, con raccomandazioni su come aumentare o diminuire specifici dhatus in caso di squilibrio. Vengono anche forniti dettagli sui fattori che influenzano la crescita del corpo, la forza e la digestione dei cibi nei dhatus, con spiegazioni sul ruolo del calore, del vento, dell'umidità, dell'untuosità, del tempo e dell'uso equilibrato nella trasformazione del cibo. Infine, viene discussa la differenza tra il cibo come nutrimento e come causa di malattia, con raccomandazioni su come mantenere l'equilibrio e la salute attraverso una corretta alimentazione e stile di vita. Il testo fornisce anche informazioni dettagliate sul sangue, le cause e i disturbi derivanti dal sangue impuro, insieme al trattamento delle malattie causate dal sangue impuro attraverso terapie come la purgazione, il digiuno e la sanguisuga. La conoscenza dettagliata del corpo umano include anche l'analisi dell'essenza costituzionale Sara, con 8 tipi descritti per valutare il grado di forza di una persona e i segni di eccellenza dei tessuti come pelle, sangue e muscoli. Viene inoltre aggiunta la descrizione delle caratteristiche e dei segni distintivi delle essenze Medas, Asthisara, Majjasara, Sukrasara e Sattva, con dettagli sulle qualità e le caratteristiche delle persone che possiedono tali essenze. Il testo approfondisce ulteriormente il concetto di Srotas come passaggi di trasporto dei dhatus in trasformazione, sottolineando l'importanza del loro corretto funzionamento per mantenere il corpo privo di disturbi. I srotas hanno colori simili ai loro dhatus, sono tubolari, grandi o piccoli, lunghi e ramificati. Questi passaggi riempiono interamente i rispettivi dhatus. I dosha si muovono in tutto il corpo con tutti i srotas che servono allo scopo del loro passaggio. Anche la mente, che trascende gli organi di senso, utilizza l'intero corpo come passaggio e luogo. Inoltre, vengono fornite informazioni dettagliate sui trattamenti per i diversi srotas, come il trattamento per Rasa, Raktavaha, Mamsavaha, Medovaha, Asthivaha, Majjavaha, Sukravaha, Mala Srotas, e Purisavaha, con indicazioni sulle cause e i trattamenti per i disturbi correlati a ciascun srotas. Il testo aggiunge che il blocco dei passaggi escretori può verificarsi a causa dell'eccessiva vitiazione o aumento delle feci, e che la morbilità dei srotas può essere causata da cibo e comportamenti simili ai dosha e dissimili ai dhatus nelle proprietà. Viene inoltre menzionato che i sintomi di morbilità dei srotas includono flusso eccessivo, flusso insufficiente, formazione di noduli e flusso di contenuti nella direzione sbagliata. Sono anche elencati i nomi degli spazi visibili e invisibili all'interno dei dhatus, insieme alla relazione tra la morbilità dei canali e la morbilità dei dhatus. La morbilità dei srotas può causare la morbilità dei dhatus, con i dosha che vitiano tutti i srotas e quindi tutti i dhatus. Aggiuntivamente, il testo approfondisce il concetto di Agni (Fuoco Digestivo/Metabolismo), descrivendo i fattori dipendenti da Agni come forza, salute, durata della vita e respiro vitale. Vengono presentati i quattro tipi di Agni, con descrizioni dettagliate e la relazione tipica con il tipo di corpo. Viene anche fornita informazione sull'Amasaya (stomaco) come organo tra l'ombelico e il petto, responsabile della digestione degli alimenti e del trasporto dei prodotti digeriti attraverso i vasi sanguigni a tutti gli organi del corpo. Il testo si estende ulteriormente sulla mente, i sensi e l'anima, discutendo la relazione tra corpo, mente e spirito, i tre umori mentali, i sette tipi di personalità sattviche, i sei tipi di personalità rajasiche e i tre tipi di personalità tamasiche. Viene anche approfondita la liberazione spirituale. La natura della mente è descritta come trascendente agli organi di senso, nota come sattva o cetas [citta], con azioni dipendenti dagli oggetti e dal compimento del sé. La mente è responsabile delle azioni degli organi di senso, che sono capaci di percepire i loro oggetti solo quando sono supportati dalla mente. La distinzione tra esseri senzienti e non senzienti è data dalle sostanze con organi di senso, mentre la percezione è definita come la conoscenza che sorge dal contatto di sé, organi di senso, mente e oggetti di senso, limitata al presente. Viene anche spiegata l'affinità degli organi di senso con i rispettivi oggetti di senso, e le cause della percezione sensoriale danneggiata e rigenerata. Infine, il testo approfondisce la relazione tra i sensi, la mente e lo spirito, esplorando le diverse tipologie di personalità e la liberazione spirituale. Il pensiero, l'analisi, il ragionamento, la meditazione, la determinazione e qualsiasi altra cosa sono oggetto della mente e sono percepiti dalla mente. L'azione della mente consiste nel controllo sui sensi, nell'autodisciplina, nel ragionamento e nell'analisi. Oltre a ciò, è di competenza del buddhi (intelletto). L'oggetto sensoriale è ricevuto dagli organi di senso insieme alla mente. La mente lo analizza sotto forma di meriti o demeriti e lo inoltra al Buddhi (intelletto) che produce conoscenza decisiva con la quale si procede a parlare o fare qualcosa con piena consapevolezza. I 5 organi di senso sono composti dai 5 mahabhutas (Akasa ecc.) con predominanza di uno in ciascuno. Sono conosciuti per inferenza attraverso le loro azioni e sono su questa base che l'intelligenza procede. Allo stesso modo, gli organi motori sono anch'essi 5 in numero come: mani, piedi, ano, genitali e organo del linguaggio. I piedi sono responsabili del movimento da un luogo all'altro, ano e genitali sono destinati alla scarica, le mani per ricevere e tenere. La lingua rappresenta l'organo del linguaggio. Il vero linguaggio è luce mentre il falso linguaggio è oscurità. I (5) mahabhutas sono akasa, vayu, agni, ap e prthivi. Suono, tatto, visione, gusto e odore sono rispettivamente le loro proprietà. Tra di loro, il primo ha solo una proprietà e c'è l'aggiunta di una proprietà in ciascuno dei successivi bhutas. Così il bhuta precedente insieme alla sua proprietà è associato al successivo. La grossolanità, la liquidità, la mobilità, il calore e la non interruzione sono i caratteri specifici di prthivi, ap, vayu, tejas e akasa rispettivamente. Tutti questi caratteri sono percepibili dall'organo del tatto perché il tatto insieme alla sua assenza è conosciuto dall'organo del tatto. Così le proprietà e i caratteri (nel corpo) di questi che possiedono proprietà (dravyas) sono menzionati. Gli oggetti sensoriali, il suono ecc. sono conosciuti come artha (oggetti sensoriali). \"Gocara\", \"visaya\" e \"guna\" sono i suoi sinonimi. La mente, i sensi e l'anima sono analizzati in relazione al corpo umano, con una discussione sulla natura della mente come trascendente agli organi di senso e responsabile delle azioni degli stessi. Viene esplorata la distinzione tra esseri senzienti e non senzienti, la percezione sensoriale e la relazione tra mente, sensi e spirito. La mente è descritta come il controllore dei sensi, responsabile del ragionamento, dell'analisi e dell'azione, insieme all'intelletto. Viene anche approfondita la relazione tra i sensi, la mente e lo spirito, con una discussione sulle diverse tipologie di personalità e la liberazione spirituale.\n"
          ]
        }
      ],
      "source": [
        "print(result[\"output_text\"])"
      ]
    },
    {
      "cell_type": "code",
      "execution_count": null,
      "id": "5f91a8eb-daa5-4191-ace4-01765801db3e",
      "metadata": {
        "id": "5f91a8eb-daa5-4191-ace4-01765801db3e",
        "outputId": "1fb90e63-bb8a-43cd-859a-0c3af787f8a8",
        "colab": {
          "base_uri": "https://localhost:8080/"
        }
      },
      "outputs": [
        {
          "output_type": "stream",
          "name": "stdout",
          "text": [
            "The text enumerates 50 total combinations of doshic aggravation and diminution, with 25 types of aggravation and 25 types of diminution. This includes 13 types of Tri-doshic aggravation, 9 types of Dual-doshic aggravated dosas, and 3 types of Single-doshic aggravation. The combinations of doshas can vary in proportions, totaling 62 different combinations. Additionally, Vata dosha is described as formless, unstable, non-unctuous, cold, light, subtle, mobile, non-slimy, rough, and with qualities of roughness, lightness, coldness, hardness, coarseness, and non-sliminess.\n",
            "\n",
            "Il testo elenca 50 combinazioni totali di aggravamento e diminuzione doshici, con 25 tipi di aggravamento e 25 tipi di diminuzione. Questo include 13 tipi di aggravamento Tri-doshico, 9 tipi di dosas aggravati Dual-doshici e 3 tipi di aggravamento Single-doshico. Le combinazioni di dosha possono variare nelle proporzioni, totalizzando 62 diverse combinazioni. Inoltre, il dosha Vata è descritto come informe, instabile, non unctuoso, freddo, leggero, sottile, mobile, non viscido, ruvido e con qualità di ruvidezza, leggerezza, freddo, durezza, grossolanità e non viscidezza. V ha 5 forme o settori nel corpo: Prana, Udana, Samana, Vyana e Apana. Le caratteristiche nella vitiazione includono ruvidezza, freddo, leggerezza, non viscidezza, movimento, informe e instabilità. Queste azioni producono separazione, dislocazione, divisione, attaccamento, strappo, malessere, esaltazione, sete, tremori, circonvoluzione, allentamento, dolore penetrante, dolore, movimento, ecc. Inoltre, la vitiazione influisce sulla forza, sul colorito, sulla felicità e sulla durata della vita; agita la mente, colpisce tutti gli organi di senso, distrugge, deforma o trattiene l'embrione per lungo tempo, produce paura, dolore, confusione, ansia e delirio eccessivo e (alla fine) ferma il respiro vitale.\n",
            "\n",
            "Il testo elenca 50 combinazioni totali di aggravamento e diminuzione doshici, con 25 tipi di aggravamento e 25 tipi di diminuzione. Questo include 13 tipi di aggravamento Tri-doshico, 9 tipi di dosas aggravati Dual-doshici e 3 tipi di aggravamento Single-doshico. Le combinazioni di dosha possono variare nelle proporzioni, totalizzando 62 diverse combinazioni. Inoltre, il dosha Vata è descritto come informe, instabile, non unctuoso, freddo, leggero, sottile, mobile, non viscido, ruvido e con qualità di ruvidezza, leggerezza, freddo, durezza, grossolanità e non viscidezza. V ha 5 forme o settori nel corpo: Prana, Udana, Samana, Vyana e Apana. Le caratteristiche nella vitiazione includono ruvidezza, freddo, leggerezza, non viscidezza, movimento, informe e instabilità. Queste azioni producono separazione, dislocazione, divisione, attaccamento, strappo, malessere, esaltazione, sete, tremori, circonvoluzione, allentamento, dolore penetrante, dolore, movimento, ecc. Inoltre, la vitiazione influisce sulla forza, sul colorito, sulla felicità e sulla durata della vita; agita la mente, colpisce tutti gli organi di senso, distrugge, deforma o trattiene l'embrione per lungo tempo, produce paura, dolore, confusione, ansia e delirio eccessivo e (alla fine) ferma il respiro vitale. La vitiazione di V nei dhatus è causata dall'uso prolungato di misure con qualità simili a V. I fattori che vitiano o pacificano V producono caratteristiche specifiche nei vari parti del corpo, influenzando la sua localizzazione e vitiazione. V ha 5 forme o settori nel corpo: prana, udana, samana, vyana e apana. Ci sono 80 disturbi associati a Vata, che vanno da dolori fisici a problemi di udito, vista e funzioni cardiache.\n"
          ]
        }
      ],
      "source": [
        "print(\"\\n\\n\".join(result[\"intermediate_steps\"][:3]))"
      ]
    }
  ],
  "metadata": {
    "kernelspec": {
      "display_name": "poetry-venv",
      "language": "python",
      "name": "poetry-venv"
    },
    "language_info": {
      "codemirror_mode": {
        "name": "ipython",
        "version": 3
      },
      "file_extension": ".py",
      "mimetype": "text/x-python",
      "name": "python",
      "nbconvert_exporter": "python",
      "pygments_lexer": "ipython3",
      "version": "3.9.1"
    },
    "colab": {
      "provenance": []
    }
  },
  "nbformat": 4,
  "nbformat_minor": 5
}